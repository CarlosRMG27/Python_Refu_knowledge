{
 "cells": [
  {
   "cell_type": "markdown",
   "id": "43b30b3d",
   "metadata": {},
   "source": [
    "# Texto"
   ]
  },
  {
   "cell_type": "code",
   "execution_count": 1,
   "id": "dca53a2f",
   "metadata": {},
   "outputs": [],
   "source": [
    "file=open('spider.txt')"
   ]
  },
  {
   "cell_type": "code",
   "execution_count": 2,
   "id": "0cbfef38",
   "metadata": {},
   "outputs": [
    {
     "data": {
      "text/plain": [
       "<_io.TextIOWrapper name='spider.txt' mode='r' encoding='cp1252'>"
      ]
     },
     "execution_count": 2,
     "metadata": {},
     "output_type": "execute_result"
    }
   ],
   "source": [
    "file"
   ]
  },
  {
   "cell_type": "code",
   "execution_count": 4,
   "id": "9985a818",
   "metadata": {},
   "outputs": [
    {
     "name": "stdout",
     "output_type": "stream",
     "text": [
      "No sirve para nada\n",
      "\n"
     ]
    }
   ],
   "source": [
    "print(file.readline())"
   ]
  },
  {
   "cell_type": "code",
   "execution_count": 5,
   "id": "56a2b2b4",
   "metadata": {},
   "outputs": [
    {
     "name": "stdout",
     "output_type": "stream",
     "text": [
      "Solo se abre en una notebook\n"
     ]
    }
   ],
   "source": [
    "print(file.read())"
   ]
  },
  {
   "cell_type": "code",
   "execution_count": 6,
   "id": "247e0990",
   "metadata": {},
   "outputs": [],
   "source": [
    "file.close()"
   ]
  },
  {
   "cell_type": "code",
   "execution_count": 8,
   "id": "96225a02",
   "metadata": {},
   "outputs": [
    {
     "ename": "ValueError",
     "evalue": "I/O operation on closed file.",
     "output_type": "error",
     "traceback": [
      "\u001b[1;31m---------------------------------------------------------------------------\u001b[0m",
      "\u001b[1;31mValueError\u001b[0m                                Traceback (most recent call last)",
      "\u001b[1;32mC:\\PROGRA~1\\KMSpico\\temp/ipykernel_15012/1407933502.py\u001b[0m in \u001b[0;36m<module>\u001b[1;34m\u001b[0m\n\u001b[1;32m----> 1\u001b[1;33m \u001b[0mfile\u001b[0m\u001b[1;33m.\u001b[0m\u001b[0mread\u001b[0m\u001b[1;33m(\u001b[0m\u001b[1;33m)\u001b[0m\u001b[1;33m\u001b[0m\u001b[1;33m\u001b[0m\u001b[0m\n\u001b[0m",
      "\u001b[1;31mValueError\u001b[0m: I/O operation on closed file."
     ]
    }
   ],
   "source": [
    "file.read()"
   ]
  },
  {
   "cell_type": "code",
   "execution_count": 9,
   "id": "890fa7ca",
   "metadata": {},
   "outputs": [
    {
     "name": "stdout",
     "output_type": "stream",
     "text": [
      "Este es un archivo ejemplo\n",
      "No sirve para nada\n",
      "Solo se abre en una notebook\n"
     ]
    }
   ],
   "source": [
    "with open('spider.txt') as file:\n",
    "    print(file.read())"
   ]
  },
  {
   "cell_type": "code",
   "execution_count": 10,
   "id": "5e3f6f17",
   "metadata": {},
   "outputs": [
    {
     "ename": "ValueError",
     "evalue": "I/O operation on closed file.",
     "output_type": "error",
     "traceback": [
      "\u001b[1;31m---------------------------------------------------------------------------\u001b[0m",
      "\u001b[1;31mValueError\u001b[0m                                Traceback (most recent call last)",
      "\u001b[1;32mC:\\PROGRA~1\\KMSpico\\temp/ipykernel_15012/1407933502.py\u001b[0m in \u001b[0;36m<module>\u001b[1;34m\u001b[0m\n\u001b[1;32m----> 1\u001b[1;33m \u001b[0mfile\u001b[0m\u001b[1;33m.\u001b[0m\u001b[0mread\u001b[0m\u001b[1;33m(\u001b[0m\u001b[1;33m)\u001b[0m\u001b[1;33m\u001b[0m\u001b[1;33m\u001b[0m\u001b[0m\n\u001b[0m",
      "\u001b[1;31mValueError\u001b[0m: I/O operation on closed file."
     ]
    }
   ],
   "source": [
    "file.read()"
   ]
  },
  {
   "cell_type": "code",
   "execution_count": 14,
   "id": "ebd434d2",
   "metadata": {},
   "outputs": [
    {
     "name": "stdout",
     "output_type": "stream",
     "text": [
      "ESTE ES UN ARCHIVO EJEMPLO\n",
      "NO SIRVE PARA NADA\n",
      "SOLO SE ABRE EN UNA NOTEBOOK\n"
     ]
    }
   ],
   "source": [
    "with open('spider.txt') as file:\n",
    "    for line in file:\n",
    "        print(line.strip().upper())"
   ]
  },
  {
   "cell_type": "code",
   "execution_count": 16,
   "id": "ef1fc761",
   "metadata": {},
   "outputs": [],
   "source": [
    "file=open('spider.txt')\n",
    "lines=file.readlines()\n",
    "file.close()"
   ]
  },
  {
   "cell_type": "code",
   "execution_count": 17,
   "id": "60c28701",
   "metadata": {},
   "outputs": [
    {
     "data": {
      "text/plain": [
       "['Este es un archivo ejemplo\\n',\n",
       " 'No sirve para nada\\n',\n",
       " 'Solo se abre en una notebook']"
      ]
     },
     "execution_count": 17,
     "metadata": {},
     "output_type": "execute_result"
    }
   ],
   "source": [
    "lines"
   ]
  },
  {
   "cell_type": "code",
   "execution_count": 18,
   "id": "18dc7fcf",
   "metadata": {},
   "outputs": [],
   "source": [
    "#También podemos escribir archivos\n",
    "with open('Novel.txt','w') as file:\n",
    "    file.write('Érase una vez')"
   ]
  },
  {
   "cell_type": "code",
   "execution_count": 19,
   "id": "6ba8f61c",
   "metadata": {},
   "outputs": [],
   "source": [
    "import os\n",
    "os.remove('Novel.txt')\n",
    "#Esto borra el archivo"
   ]
  },
  {
   "cell_type": "code",
   "execution_count": 20,
   "id": "d569153c",
   "metadata": {},
   "outputs": [],
   "source": [
    "os.rename('spider.txt','spider2.txt')"
   ]
  },
  {
   "cell_type": "code",
   "execution_count": 21,
   "id": "36bdb8ca",
   "metadata": {},
   "outputs": [
    {
     "data": {
      "text/plain": [
       "False"
      ]
     },
     "execution_count": 21,
     "metadata": {},
     "output_type": "execute_result"
    }
   ],
   "source": [
    "os.path.exists('spider.txt')"
   ]
  },
  {
   "cell_type": "code",
   "execution_count": 22,
   "id": "7718b3e9",
   "metadata": {},
   "outputs": [
    {
     "data": {
      "text/plain": [
       "True"
      ]
     },
     "execution_count": 22,
     "metadata": {},
     "output_type": "execute_result"
    }
   ],
   "source": [
    "os.path.exists('spider2.txt')"
   ]
  },
  {
   "cell_type": "code",
   "execution_count": 23,
   "id": "ab410eff",
   "metadata": {},
   "outputs": [
    {
     "data": {
      "text/plain": [
       "76"
      ]
     },
     "execution_count": 23,
     "metadata": {},
     "output_type": "execute_result"
    }
   ],
   "source": [
    "#El tamaño es en bytes\n",
    "os.path.getsize('spider2.txt')"
   ]
  },
  {
   "cell_type": "code",
   "execution_count": 24,
   "id": "0aabcbef",
   "metadata": {},
   "outputs": [
    {
     "data": {
      "text/plain": [
       "1649598141.9546263"
      ]
     },
     "execution_count": 24,
     "metadata": {},
     "output_type": "execute_result"
    }
   ],
   "source": [
    "#Cuándo se modificó por última vez\n",
    "os.path.getmtime('spider2.txt')\n",
    "#pero en número de segundos desde enero de 1970"
   ]
  },
  {
   "cell_type": "code",
   "execution_count": 25,
   "id": "fd409183",
   "metadata": {},
   "outputs": [
    {
     "data": {
      "text/plain": [
       "datetime.datetime(2022, 4, 10, 8, 42, 21, 954626)"
      ]
     },
     "execution_count": 25,
     "metadata": {},
     "output_type": "execute_result"
    }
   ],
   "source": [
    "import datetime\n",
    "tm=os.path.getmtime('spider2.txt')\n",
    "datetime.datetime.fromtimestamp(tm)"
   ]
  },
  {
   "cell_type": "code",
   "execution_count": 26,
   "id": "3ad7244f",
   "metadata": {},
   "outputs": [
    {
     "data": {
      "text/plain": [
       "'C:\\\\Users\\\\usuario\\\\Desktop\\\\Python_Refu_knowledge\\\\Truquillos\\\\spider2.txt'"
      ]
     },
     "execution_count": 26,
     "metadata": {},
     "output_type": "execute_result"
    }
   ],
   "source": [
    "os.path.abspath('spider2.txt')\n",
    "#Path absoluto"
   ]
  },
  {
   "cell_type": "code",
   "execution_count": 27,
   "id": "8e510e20",
   "metadata": {},
   "outputs": [
    {
     "data": {
      "text/plain": [
       "'C:\\\\Users\\\\usuario\\\\Desktop\\\\Python_Refu_knowledge\\\\Truquillos'"
      ]
     },
     "execution_count": 27,
     "metadata": {},
     "output_type": "execute_result"
    }
   ],
   "source": [
    "os.getcwd()\n",
    "#Nos da el working directory"
   ]
  },
  {
   "cell_type": "code",
   "execution_count": 28,
   "id": "8b908e05",
   "metadata": {},
   "outputs": [],
   "source": [
    "os.mkdir('Nuevo folder')"
   ]
  },
  {
   "cell_type": "code",
   "execution_count": 29,
   "id": "752c0d65",
   "metadata": {},
   "outputs": [],
   "source": [
    "#Podemos movernos hacia allá\n",
    "os.chdir('Nuevo folder')"
   ]
  },
  {
   "cell_type": "code",
   "execution_count": 30,
   "id": "8a7057da",
   "metadata": {},
   "outputs": [
    {
     "data": {
      "text/plain": [
       "'C:\\\\Users\\\\usuario\\\\Desktop\\\\Python_Refu_knowledge\\\\Truquillos\\\\Nuevo folder'"
      ]
     },
     "execution_count": 30,
     "metadata": {},
     "output_type": "execute_result"
    }
   ],
   "source": [
    "os.getcwd()"
   ]
  },
  {
   "cell_type": "code",
   "execution_count": 31,
   "id": "77bac36c",
   "metadata": {},
   "outputs": [
    {
     "ename": "FileNotFoundError",
     "evalue": "[WinError 2] El sistema no puede encontrar el archivo especificado: 'Nuevo folder'",
     "output_type": "error",
     "traceback": [
      "\u001b[1;31m---------------------------------------------------------------------------\u001b[0m",
      "\u001b[1;31mFileNotFoundError\u001b[0m                         Traceback (most recent call last)",
      "\u001b[1;32mC:\\PROGRA~1\\KMSpico\\temp/ipykernel_15012/706873615.py\u001b[0m in \u001b[0;36m<module>\u001b[1;34m\u001b[0m\n\u001b[1;32m----> 1\u001b[1;33m \u001b[0mos\u001b[0m\u001b[1;33m.\u001b[0m\u001b[0mrmdir\u001b[0m\u001b[1;33m(\u001b[0m\u001b[1;34m'Nuevo folder'\u001b[0m\u001b[1;33m)\u001b[0m\u001b[1;33m\u001b[0m\u001b[1;33m\u001b[0m\u001b[0m\n\u001b[0m",
      "\u001b[1;31mFileNotFoundError\u001b[0m: [WinError 2] El sistema no puede encontrar el archivo especificado: 'Nuevo folder'"
     ]
    }
   ],
   "source": [
    "os.rmdir('Nuevo folder')\n",
    "#Borra un folder"
   ]
  },
  {
   "cell_type": "code",
   "execution_count": 35,
   "id": "baee1aa9",
   "metadata": {},
   "outputs": [],
   "source": [
    "os.chdir('C:\\\\Users\\\\usuario\\\\Desktop\\\\Python_Refu_knowledge\\\\Truquillos\\\\')"
   ]
  },
  {
   "cell_type": "code",
   "execution_count": 38,
   "id": "efdf2059",
   "metadata": {},
   "outputs": [
    {
     "data": {
      "text/plain": [
       "['.ipynb_checkpoints',\n",
       " 'Ajuste de curvas.ipynb',\n",
       " 'Archivos y python.ipynb',\n",
       " 'Consolidado Nómina RH 2021.xlsb',\n",
       " 'CTMO Ene-Feb 2021.xlsx',\n",
       " 'Dataframes y copias de dataframes.ipynb',\n",
       " 'Enumerate y dictionary comprehensions, iter y next.ipynb',\n",
       " 'máscara booleana avanzadilla.ipynb',\n",
       " 'Máscaras booleanas.ipynb',\n",
       " 'Notas lalo bb.ipynb',\n",
       " 'Nuevo folder',\n",
       " 'spider2.txt',\n",
       " 'Spliteo loco.txt',\n",
       " 'Índices de los países.xlsx']"
      ]
     },
     "execution_count": 38,
     "metadata": {},
     "output_type": "execute_result"
    }
   ],
   "source": [
    "os.listdir()\n",
    "#Nos da la lista de documentos "
   ]
  },
  {
   "cell_type": "code",
   "execution_count": 41,
   "id": "8f1b8292",
   "metadata": {},
   "outputs": [
    {
     "data": {
      "text/plain": [
       "'..'"
      ]
     },
     "execution_count": 41,
     "metadata": {},
     "output_type": "execute_result"
    }
   ],
   "source": [
    "os.pardir"
   ]
  },
  {
   "cell_type": "code",
   "execution_count": 49,
   "id": "65bf471b",
   "metadata": {},
   "outputs": [
    {
     "data": {
      "text/plain": [
       "'C:\\\\Users\\\\usuario\\\\Desktop\\\\Python_Refu_knowledge\\\\Truquillos\\\\..'"
      ]
     },
     "execution_count": 49,
     "metadata": {},
     "output_type": "execute_result"
    }
   ],
   "source": [
    "#Nos da el path del parent directory\n",
    "relative_parent = os.path.join(os.getcwd(), os.pardir)\n",
    "relative_parent"
   ]
  },
  {
   "cell_type": "code",
   "execution_count": 52,
   "id": "75e64623",
   "metadata": {},
   "outputs": [],
   "source": [
    "os.chdir(relative_parent)"
   ]
  },
  {
   "cell_type": "code",
   "execution_count": 54,
   "id": "12640e3d",
   "metadata": {},
   "outputs": [
    {
     "data": {
      "text/plain": [
       "'C:\\\\Users\\\\usuario\\\\Desktop\\\\Python_Refu_knowledge'"
      ]
     },
     "execution_count": 54,
     "metadata": {},
     "output_type": "execute_result"
    }
   ],
   "source": [
    "os.getcwd()"
   ]
  },
  {
   "cell_type": "code",
   "execution_count": 55,
   "id": "ae2bc5e4",
   "metadata": {},
   "outputs": [
    {
     "data": {
      "text/plain": [
       "['.git',\n",
       " '.ipynb_checkpoints',\n",
       " 'Ciencias de datos básica',\n",
       " 'Codeless pipelines',\n",
       " 'Data science GCP',\n",
       " 'Diagonalización.ipynb',\n",
       " 'Experimentos',\n",
       " 'GCP y códigos locos',\n",
       " 'Repo clandestino.txt',\n",
       " 'SQL',\n",
       " 'Truquillos',\n",
       " 'Visualización de datos IBM']"
      ]
     },
     "execution_count": 55,
     "metadata": {},
     "output_type": "execute_result"
    }
   ],
   "source": [
    "os.listdir()"
   ]
  },
  {
   "cell_type": "markdown",
   "id": "65352996",
   "metadata": {},
   "source": [
    "# CSV"
   ]
  },
  {
   "cell_type": "code",
   "execution_count": 58,
   "id": "65cd8123",
   "metadata": {},
   "outputs": [],
   "source": [
    "import csv"
   ]
  },
  {
   "cell_type": "code",
   "execution_count": 66,
   "id": "ccdb46f9",
   "metadata": {},
   "outputs": [],
   "source": [
    "f=open('ejem.csv')\n",
    "f=csv.reader(f)"
   ]
  },
  {
   "cell_type": "code",
   "execution_count": 67,
   "id": "4d19e2ec",
   "metadata": {},
   "outputs": [
    {
     "name": "stdout",
     "output_type": "stream",
     "text": [
      "col1\n",
      "col2\n",
      "Hola\n",
      "Bai\n"
     ]
    }
   ],
   "source": [
    "for row in f:\n",
    "    saludo,despedida=row\n",
    "    print(saludo)\n",
    "    print(despedida)"
   ]
  },
  {
   "cell_type": "code",
   "execution_count": 70,
   "id": "cf661178",
   "metadata": {},
   "outputs": [
    {
     "ename": "AttributeError",
     "evalue": "'_csv.reader' object has no attribute 'close'",
     "output_type": "error",
     "traceback": [
      "\u001b[1;31m---------------------------------------------------------------------------\u001b[0m",
      "\u001b[1;31mAttributeError\u001b[0m                            Traceback (most recent call last)",
      "\u001b[1;32mC:\\PROGRA~1\\KMSpico\\temp/ipykernel_15012/4000743260.py\u001b[0m in \u001b[0;36m<module>\u001b[1;34m\u001b[0m\n\u001b[1;32m----> 1\u001b[1;33m \u001b[0mf\u001b[0m\u001b[1;33m.\u001b[0m\u001b[0mclose\u001b[0m\u001b[1;33m(\u001b[0m\u001b[1;33m)\u001b[0m\u001b[1;33m\u001b[0m\u001b[1;33m\u001b[0m\u001b[0m\n\u001b[0m",
      "\u001b[1;31mAttributeError\u001b[0m: '_csv.reader' object has no attribute 'close'"
     ]
    }
   ],
   "source": [
    "f.close()"
   ]
  },
  {
   "cell_type": "code",
   "execution_count": 71,
   "id": "3ac24aaf",
   "metadata": {},
   "outputs": [],
   "source": [
    "hosts=[['workstation.local','192.168.25.46'],['webserver.cloud','10.2.5.6']]"
   ]
  },
  {
   "cell_type": "code",
   "execution_count": 73,
   "id": "53317ba8",
   "metadata": {},
   "outputs": [],
   "source": [
    "with open('hosts.csv','w') as hosts_csv:\n",
    "    writer=csv.writer(hosts_csv)\n",
    "    writer.writerows(hosts)"
   ]
  },
  {
   "cell_type": "code",
   "execution_count": 75,
   "id": "7071d80b",
   "metadata": {},
   "outputs": [],
   "source": [
    "lista=[0,0,1,2,3,4]"
   ]
  },
  {
   "cell_type": "code",
   "execution_count": 77,
   "id": "6c45f439",
   "metadata": {},
   "outputs": [
    {
     "data": {
      "text/plain": [
       "[0, 1, 2, 3, 4]"
      ]
     },
     "execution_count": 77,
     "metadata": {},
     "output_type": "execute_result"
    }
   ],
   "source": [
    "list(set(lista))"
   ]
  },
  {
   "cell_type": "code",
   "execution_count": 79,
   "id": "68fa586a",
   "metadata": {},
   "outputs": [
    {
     "data": {
      "text/plain": [
       "2"
      ]
     },
     "execution_count": 79,
     "metadata": {},
     "output_type": "execute_result"
    }
   ],
   "source": [
    "lista.count(0)"
   ]
  },
  {
   "cell_type": "code",
   "execution_count": null,
   "id": "0f6c14fa",
   "metadata": {},
   "outputs": [],
   "source": []
  }
 ],
 "metadata": {
  "kernelspec": {
   "display_name": "Python 3 (ipykernel)",
   "language": "python",
   "name": "python3"
  },
  "language_info": {
   "codemirror_mode": {
    "name": "ipython",
    "version": 3
   },
   "file_extension": ".py",
   "mimetype": "text/x-python",
   "name": "python",
   "nbconvert_exporter": "python",
   "pygments_lexer": "ipython3",
   "version": "3.9.6"
  }
 },
 "nbformat": 4,
 "nbformat_minor": 5
}
