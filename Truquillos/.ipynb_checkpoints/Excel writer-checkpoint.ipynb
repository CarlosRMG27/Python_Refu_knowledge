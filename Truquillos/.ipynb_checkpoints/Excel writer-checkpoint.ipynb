{
 "cells": [
  {
   "cell_type": "code",
   "execution_count": 2,
   "id": "19ae5a2e",
   "metadata": {},
   "outputs": [],
   "source": [
    "import pandas as pd\n",
    "import numpy as np"
   ]
  },
  {
   "cell_type": "code",
   "execution_count": 3,
   "id": "f9700d4c",
   "metadata": {},
   "outputs": [],
   "source": [
    "df=pd.DataFrame(columns=['Nombre','Edad'])"
   ]
  },
  {
   "cell_type": "code",
   "execution_count": 4,
   "id": "ac855d4d",
   "metadata": {},
   "outputs": [],
   "source": [
    "S=['Carlos','Blanca','David']\n",
    "S2=['24','29','23']"
   ]
  },
  {
   "cell_type": "code",
   "execution_count": 5,
   "id": "33e756ce",
   "metadata": {},
   "outputs": [],
   "source": [
    "df['Nombre']=S\n",
    "df['Edad']=S2"
   ]
  },
  {
   "cell_type": "code",
   "execution_count": 6,
   "id": "a8cb8417",
   "metadata": {},
   "outputs": [
    {
     "data": {
      "text/html": [
       "<div>\n",
       "<style scoped>\n",
       "    .dataframe tbody tr th:only-of-type {\n",
       "        vertical-align: middle;\n",
       "    }\n",
       "\n",
       "    .dataframe tbody tr th {\n",
       "        vertical-align: top;\n",
       "    }\n",
       "\n",
       "    .dataframe thead th {\n",
       "        text-align: right;\n",
       "    }\n",
       "</style>\n",
       "<table border=\"1\" class=\"dataframe\">\n",
       "  <thead>\n",
       "    <tr style=\"text-align: right;\">\n",
       "      <th></th>\n",
       "      <th>Nombre</th>\n",
       "      <th>Edad</th>\n",
       "    </tr>\n",
       "  </thead>\n",
       "  <tbody>\n",
       "    <tr>\n",
       "      <th>0</th>\n",
       "      <td>Carlos</td>\n",
       "      <td>24</td>\n",
       "    </tr>\n",
       "    <tr>\n",
       "      <th>1</th>\n",
       "      <td>Blanca</td>\n",
       "      <td>29</td>\n",
       "    </tr>\n",
       "    <tr>\n",
       "      <th>2</th>\n",
       "      <td>David</td>\n",
       "      <td>23</td>\n",
       "    </tr>\n",
       "  </tbody>\n",
       "</table>\n",
       "</div>"
      ],
      "text/plain": [
       "   Nombre Edad\n",
       "0  Carlos   24\n",
       "1  Blanca   29\n",
       "2   David   23"
      ]
     },
     "execution_count": 6,
     "metadata": {},
     "output_type": "execute_result"
    }
   ],
   "source": [
    "df"
   ]
  },
  {
   "cell_type": "code",
   "execution_count": 7,
   "id": "91f55675",
   "metadata": {},
   "outputs": [],
   "source": [
    "S=pd.Series(S)"
   ]
  },
  {
   "cell_type": "code",
   "execution_count": 40,
   "id": "7bba47cb",
   "metadata": {},
   "outputs": [],
   "source": [
    "writer = pd.ExcelWriter('Ejemplo.xlsx', engine='xlsxwriter')"
   ]
  },
  {
   "cell_type": "code",
   "execution_count": 41,
   "id": "aa5ba2a9",
   "metadata": {},
   "outputs": [],
   "source": [
    "df.to_excel(writer, sheet_name='Frame completo', index=False)"
   ]
  },
  {
   "cell_type": "code",
   "execution_count": 42,
   "id": "2a3d638b",
   "metadata": {},
   "outputs": [],
   "source": [
    "S.to_excel(writer, sheet_name='Solo nombres', index=False)"
   ]
  },
  {
   "cell_type": "code",
   "execution_count": 43,
   "id": "6c4ca3a4",
   "metadata": {},
   "outputs": [],
   "source": [
    "writer.save()"
   ]
  },
  {
   "cell_type": "code",
   "execution_count": null,
   "id": "82754cd8",
   "metadata": {},
   "outputs": [],
   "source": []
  }
 ],
 "metadata": {
  "kernelspec": {
   "display_name": "soli",
   "language": "python",
   "name": "soli"
  },
  "language_info": {
   "codemirror_mode": {
    "name": "ipython",
    "version": 3
   },
   "file_extension": ".py",
   "mimetype": "text/x-python",
   "name": "python",
   "nbconvert_exporter": "python",
   "pygments_lexer": "ipython3",
   "version": "3.9.10"
  }
 },
 "nbformat": 4,
 "nbformat_minor": 5
}
