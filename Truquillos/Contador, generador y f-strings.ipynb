{
 "cells": [
  {
   "cell_type": "code",
   "execution_count": 1,
   "id": "49b540f8",
   "metadata": {},
   "outputs": [],
   "source": [
    "from collections import Counter\n",
    "import sys"
   ]
  },
  {
   "cell_type": "markdown",
   "id": "00b127c2",
   "metadata": {},
   "source": [
    "# Contador"
   ]
  },
  {
   "cell_type": "code",
   "execution_count": 7,
   "id": "5af8b053",
   "metadata": {},
   "outputs": [
    {
     "name": "stdout",
     "output_type": "stream",
     "text": [
      "Counter({7: 4, 9: 3})\n"
     ]
    }
   ],
   "source": [
    "lista=[9,9,9,7,7,7,7]\n",
    "C=Counter(lista)\n",
    "print(C)\n",
    "#Nos dice cuánto hay de cada uno"
   ]
  },
  {
   "cell_type": "code",
   "execution_count": 9,
   "id": "d2d475cd",
   "metadata": {},
   "outputs": [
    {
     "data": {
      "text/plain": [
       "[(7, 4)]"
      ]
     },
     "execution_count": 9,
     "metadata": {},
     "output_type": "execute_result"
    }
   ],
   "source": [
    "C.most_common(1)"
   ]
  },
  {
   "cell_type": "markdown",
   "id": "b6cc28d9",
   "metadata": {},
   "source": [
    "# Generador"
   ]
  },
  {
   "cell_type": "code",
   "execution_count": 5,
   "id": "85934cf8",
   "metadata": {},
   "outputs": [
    {
     "name": "stdout",
     "output_type": "stream",
     "text": [
      "85176\n",
      "49995000\n"
     ]
    }
   ],
   "source": [
    "P=[i for i in range(10000)]\n",
    "Q=sum(P)\n",
    "print(sys.getsizeof(P))\n",
    "print(Q)"
   ]
  },
  {
   "cell_type": "code",
   "execution_count": 6,
   "id": "69d6b7c7",
   "metadata": {},
   "outputs": [
    {
     "name": "stdout",
     "output_type": "stream",
     "text": [
      "112\n",
      "49995000\n"
     ]
    }
   ],
   "source": [
    "P=(i for i in range(10000))\n",
    "Q=sum(P)\n",
    "print(sys.getsizeof(P))\n",
    "print(Q)"
   ]
  },
  {
   "cell_type": "code",
   "execution_count": null,
   "id": "36b812a6",
   "metadata": {},
   "outputs": [],
   "source": [
    "#La cantidad de espacio usado por el generador es mucho menor\n",
    "#porque el generador evalúa d flojamente"
   ]
  },
  {
   "cell_type": "markdown",
   "id": "a440ec3d",
   "metadata": {},
   "source": [
    "# f-strings"
   ]
  },
  {
   "cell_type": "code",
   "execution_count": 10,
   "id": "21d7c315",
   "metadata": {},
   "outputs": [
    {
     "data": {
      "text/plain": [
       "'Me llamo Carlos y tengo 24 años'"
      ]
     },
     "execution_count": 10,
     "metadata": {},
     "output_type": "execute_result"
    }
   ],
   "source": [
    "años=24\n",
    "nombre='Carlos'\n",
    "S=f'Me llamo {nombre} y tengo {años} años'\n",
    "S"
   ]
  },
  {
   "cell_type": "code",
   "execution_count": null,
   "id": "d1663bb7",
   "metadata": {},
   "outputs": [],
   "source": []
  }
 ],
 "metadata": {
  "kernelspec": {
   "display_name": "Python 3 (ipykernel)",
   "language": "python",
   "name": "python3"
  },
  "language_info": {
   "codemirror_mode": {
    "name": "ipython",
    "version": 3
   },
   "file_extension": ".py",
   "mimetype": "text/x-python",
   "name": "python",
   "nbconvert_exporter": "python",
   "pygments_lexer": "ipython3",
   "version": "3.9.10"
  }
 },
 "nbformat": 4,
 "nbformat_minor": 5
}
