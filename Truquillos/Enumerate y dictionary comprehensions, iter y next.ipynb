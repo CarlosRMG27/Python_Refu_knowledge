{
 "cells": [
  {
   "cell_type": "markdown",
   "id": "9d579665",
   "metadata": {},
   "source": [
    "# Dictionary comprehensions"
   ]
  },
  {
   "cell_type": "code",
   "execution_count": 3,
   "id": "d466f138",
   "metadata": {},
   "outputs": [],
   "source": [
    "L=range(5)"
   ]
  },
  {
   "cell_type": "code",
   "execution_count": 4,
   "id": "c2d6410a",
   "metadata": {},
   "outputs": [],
   "source": [
    "P={item:item**2 for item in L}"
   ]
  },
  {
   "cell_type": "code",
   "execution_count": 7,
   "id": "a98fc09b",
   "metadata": {},
   "outputs": [
    {
     "data": {
      "text/plain": [
       "{0: 0, 1: 1, 2: 4, 3: 9, 4: 16}"
      ]
     },
     "execution_count": 7,
     "metadata": {},
     "output_type": "execute_result"
    }
   ],
   "source": [
    "P"
   ]
  },
  {
   "cell_type": "code",
   "execution_count": 8,
   "id": "6c94af61",
   "metadata": {},
   "outputs": [],
   "source": [
    "numbers=range(10)\n",
    "new_dict_comp = {n:n**2 for n in numbers if n%2 == 0}"
   ]
  },
  {
   "cell_type": "code",
   "execution_count": 9,
   "id": "bce40202",
   "metadata": {},
   "outputs": [
    {
     "data": {
      "text/plain": [
       "{0: 0, 2: 4, 4: 16, 6: 36, 8: 64}"
      ]
     },
     "execution_count": 9,
     "metadata": {},
     "output_type": "execute_result"
    }
   ],
   "source": [
    "new_dict_comp"
   ]
  },
  {
   "cell_type": "code",
   "execution_count": 10,
   "id": "bc94140b",
   "metadata": {},
   "outputs": [],
   "source": [
    "fahrenheit = {'t1': -30,'t2': -20,'t3': -10,'t4': 0}\n",
    "\n",
    "# Get the corresponding `celsius` values and create the new dictionary\n",
    "celsius = {k:(float(5)/9)*(v-32) for (k,v) in fahrenheit.items()}"
   ]
  },
  {
   "cell_type": "code",
   "execution_count": 11,
   "id": "d22657dd",
   "metadata": {},
   "outputs": [
    {
     "data": {
      "text/plain": [
       "{'t1': -34.44444444444444,\n",
       " 't2': -28.88888888888889,\n",
       " 't3': -23.333333333333336,\n",
       " 't4': -17.77777777777778}"
      ]
     },
     "execution_count": 11,
     "metadata": {},
     "output_type": "execute_result"
    }
   ],
   "source": [
    "celsius"
   ]
  },
  {
   "cell_type": "markdown",
   "id": "e1c7bee9",
   "metadata": {},
   "source": [
    "# Enumerate"
   ]
  },
  {
   "cell_type": "code",
   "execution_count": 14,
   "id": "3d0d4334",
   "metadata": {},
   "outputs": [
    {
     "name": "stdout",
     "output_type": "stream",
     "text": [
      "0\n",
      "t1\n",
      "-34.44444444444444\n",
      "1\n",
      "t2\n",
      "-28.88888888888889\n",
      "2\n",
      "t3\n",
      "-23.333333333333336\n",
      "3\n",
      "t4\n",
      "-17.77777777777778\n"
     ]
    }
   ],
   "source": [
    "for count,elem in enumerate(celsius):\n",
    "    print(count)\n",
    "    print(elem)\n",
    "    print(celsius[elem])"
   ]
  },
  {
   "cell_type": "code",
   "execution_count": 16,
   "id": "45b8dd0c",
   "metadata": {},
   "outputs": [],
   "source": [
    "L2=['Carlos','Moy','Alex','Brandam']"
   ]
  },
  {
   "cell_type": "code",
   "execution_count": 31,
   "id": "6427168c",
   "metadata": {},
   "outputs": [],
   "source": [
    "enum=enumerate(L2)"
   ]
  },
  {
   "cell_type": "code",
   "execution_count": 32,
   "id": "afba29c1",
   "metadata": {},
   "outputs": [
    {
     "name": "stdout",
     "output_type": "stream",
     "text": [
      "(0, 'Carlos')\n",
      "(1, 'Moy')\n",
      "(2, 'Alex')\n",
      "(3, 'Brandam')\n"
     ]
    }
   ],
   "source": [
    "for elem in enum:\n",
    "    print(elem)"
   ]
  },
  {
   "cell_type": "code",
   "execution_count": 34,
   "id": "0bd97ee9",
   "metadata": {},
   "outputs": [],
   "source": [
    "enum=enumerate(L2)"
   ]
  },
  {
   "cell_type": "code",
   "execution_count": 35,
   "id": "7d4f3314",
   "metadata": {},
   "outputs": [
    {
     "name": "stdout",
     "output_type": "stream",
     "text": [
      "0\n",
      "Carlos\n",
      "1\n",
      "Moy\n",
      "2\n",
      "Alex\n",
      "3\n",
      "Brandam\n"
     ]
    }
   ],
   "source": [
    "for count,elem in enum:\n",
    "    print(count)\n",
    "    print(elem)"
   ]
  },
  {
   "cell_type": "markdown",
   "id": "aa92c771",
   "metadata": {},
   "source": [
    "# Iter y next"
   ]
  },
  {
   "cell_type": "code",
   "execution_count": 1,
   "id": "1dda996d",
   "metadata": {},
   "outputs": [],
   "source": [
    "vocales=['a','e','i','o','u']"
   ]
  },
  {
   "cell_type": "code",
   "execution_count": 2,
   "id": "4209f187",
   "metadata": {},
   "outputs": [],
   "source": [
    "vocales_iter=iter(vocales)"
   ]
  },
  {
   "cell_type": "code",
   "execution_count": 5,
   "id": "6f019802",
   "metadata": {},
   "outputs": [
    {
     "data": {
      "text/plain": [
       "'a'"
      ]
     },
     "execution_count": 5,
     "metadata": {},
     "output_type": "execute_result"
    }
   ],
   "source": [
    "next(vocales_iter)"
   ]
  },
  {
   "cell_type": "code",
   "execution_count": 6,
   "id": "c4517128",
   "metadata": {},
   "outputs": [
    {
     "data": {
      "text/plain": [
       "'e'"
      ]
     },
     "execution_count": 6,
     "metadata": {},
     "output_type": "execute_result"
    }
   ],
   "source": [
    "next(vocales_iter)"
   ]
  },
  {
   "cell_type": "code",
   "execution_count": 7,
   "id": "29fde33e",
   "metadata": {},
   "outputs": [
    {
     "data": {
      "text/plain": [
       "'i'"
      ]
     },
     "execution_count": 7,
     "metadata": {},
     "output_type": "execute_result"
    }
   ],
   "source": [
    "next(vocales_iter)"
   ]
  },
  {
   "cell_type": "code",
   "execution_count": 8,
   "id": "0c5b8ba1",
   "metadata": {},
   "outputs": [
    {
     "data": {
      "text/plain": [
       "'o'"
      ]
     },
     "execution_count": 8,
     "metadata": {},
     "output_type": "execute_result"
    }
   ],
   "source": [
    "next(vocales_iter)"
   ]
  },
  {
   "cell_type": "code",
   "execution_count": 9,
   "id": "7e4d6fb0",
   "metadata": {},
   "outputs": [
    {
     "data": {
      "text/plain": [
       "'u'"
      ]
     },
     "execution_count": 9,
     "metadata": {},
     "output_type": "execute_result"
    }
   ],
   "source": [
    "next(vocales_iter)"
   ]
  },
  {
   "cell_type": "code",
   "execution_count": 10,
   "id": "07ab521b",
   "metadata": {},
   "outputs": [
    {
     "ename": "StopIteration",
     "evalue": "",
     "output_type": "error",
     "traceback": [
      "\u001b[1;31m---------------------------------------------------------------------------\u001b[0m",
      "\u001b[1;31mStopIteration\u001b[0m                             Traceback (most recent call last)",
      "Input \u001b[1;32mIn [10]\u001b[0m, in \u001b[0;36m<module>\u001b[1;34m\u001b[0m\n\u001b[1;32m----> 1\u001b[0m \u001b[38;5;28;43mnext\u001b[39;49m\u001b[43m(\u001b[49m\u001b[43mvocales_iter\u001b[49m\u001b[43m)\u001b[49m\n",
      "\u001b[1;31mStopIteration\u001b[0m: "
     ]
    }
   ],
   "source": [
    "next(vocales_iter)"
   ]
  },
  {
   "cell_type": "code",
   "execution_count": null,
   "id": "5dac567a",
   "metadata": {},
   "outputs": [],
   "source": []
  }
 ],
 "metadata": {
  "kernelspec": {
   "display_name": "soli",
   "language": "python",
   "name": "soli"
  },
  "language_info": {
   "codemirror_mode": {
    "name": "ipython",
    "version": 3
   },
   "file_extension": ".py",
   "mimetype": "text/x-python",
   "name": "python",
   "nbconvert_exporter": "python",
   "pygments_lexer": "ipython3",
   "version": "3.9.10"
  }
 },
 "nbformat": 4,
 "nbformat_minor": 5
}
