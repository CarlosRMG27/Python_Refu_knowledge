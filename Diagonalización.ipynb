{
 "cells": [
  {
   "cell_type": "code",
   "execution_count": 1,
   "id": "620107bc",
   "metadata": {},
   "outputs": [],
   "source": [
    "import numpy as np"
   ]
  },
  {
   "cell_type": "code",
   "execution_count": 12,
   "id": "87cecffb",
   "metadata": {},
   "outputs": [],
   "source": [
    "A=np.array([[3,0],[1,2]])"
   ]
  },
  {
   "cell_type": "code",
   "execution_count": 3,
   "id": "941e9409",
   "metadata": {},
   "outputs": [],
   "source": [
    "P=np.array([[1,0],[1,1]])"
   ]
  },
  {
   "cell_type": "code",
   "execution_count": 4,
   "id": "f1e34721",
   "metadata": {},
   "outputs": [
    {
     "data": {
      "text/plain": [
       "array([[1, 0],\n",
       "       [1, 1]])"
      ]
     },
     "execution_count": 4,
     "metadata": {},
     "output_type": "execute_result"
    }
   ],
   "source": [
    "P"
   ]
  },
  {
   "cell_type": "code",
   "execution_count": 6,
   "id": "eb3f0247",
   "metadata": {},
   "outputs": [],
   "source": [
    "P_1=np.linalg.inv(P)"
   ]
  },
  {
   "cell_type": "code",
   "execution_count": 9,
   "id": "060dc0d5",
   "metadata": {},
   "outputs": [],
   "source": [
    "D=np.array([[3,0],[0,2]])"
   ]
  },
  {
   "cell_type": "code",
   "execution_count": 13,
   "id": "eab2870c",
   "metadata": {},
   "outputs": [],
   "source": [
    "A2=P@D@P_1"
   ]
  },
  {
   "cell_type": "code",
   "execution_count": 14,
   "id": "6d3875cc",
   "metadata": {},
   "outputs": [
    {
     "data": {
      "text/plain": [
       "array([[0., 0.],\n",
       "       [0., 0.]])"
      ]
     },
     "execution_count": 14,
     "metadata": {},
     "output_type": "execute_result"
    }
   ],
   "source": [
    "A-A2"
   ]
  },
  {
   "cell_type": "code",
   "execution_count": 15,
   "id": "619e03b2",
   "metadata": {},
   "outputs": [
    {
     "data": {
      "text/plain": [
       "array([[3., 0.],\n",
       "       [0., 2.]])"
      ]
     },
     "execution_count": 15,
     "metadata": {},
     "output_type": "execute_result"
    }
   ],
   "source": [
    "P_1@A@P"
   ]
  },
  {
   "cell_type": "code",
   "execution_count": 16,
   "id": "7297a6da",
   "metadata": {},
   "outputs": [],
   "source": [
    "A=np.array([[1,0,0],[3,-2,0],[2,3,4]])"
   ]
  },
  {
   "cell_type": "code",
   "execution_count": 17,
   "id": "b0cc8f86",
   "metadata": {},
   "outputs": [],
   "source": [
    "P=np.array([[1,0,0],[1,-2,0],[-5/3,1,1]])"
   ]
  },
  {
   "cell_type": "code",
   "execution_count": 18,
   "id": "78b058b4",
   "metadata": {},
   "outputs": [],
   "source": [
    "P_1=np.linalg.inv(P)"
   ]
  },
  {
   "cell_type": "code",
   "execution_count": 19,
   "id": "aabeac4d",
   "metadata": {},
   "outputs": [
    {
     "data": {
      "text/plain": [
       "array([[ 1.00000000e+00,  2.66453526e-16,  0.00000000e+00],\n",
       "       [ 1.11022302e-16, -2.00000000e+00,  0.00000000e+00],\n",
       "       [ 0.00000000e+00,  4.44089210e-16,  4.00000000e+00]])"
      ]
     },
     "execution_count": 19,
     "metadata": {},
     "output_type": "execute_result"
    }
   ],
   "source": [
    "P_1@A@P"
   ]
  },
  {
   "cell_type": "code",
   "execution_count": 2,
   "id": "2686c667",
   "metadata": {},
   "outputs": [],
   "source": [
    "A=np.array([[0,1,0],[0,0,1],[4,-17,8]])"
   ]
  },
  {
   "cell_type": "code",
   "execution_count": 3,
   "id": "919eb04d",
   "metadata": {},
   "outputs": [],
   "source": [
    "P=np.array([[1,1,1],[4,2+np.sqrt(3),2-np.sqrt(3)],[16,(2+np.sqrt(3))**2,(2-np.sqrt(3))**2]])"
   ]
  },
  {
   "cell_type": "code",
   "execution_count": 4,
   "id": "2fb48580",
   "metadata": {},
   "outputs": [],
   "source": [
    "P_1=np.linalg.inv(P)"
   ]
  },
  {
   "cell_type": "code",
   "execution_count": 5,
   "id": "3fb033cb",
   "metadata": {},
   "outputs": [
    {
     "data": {
      "text/plain": [
       "array([[ 4.00000000e+00,  1.05306044e-14, -1.26024210e-15],\n",
       "       [-1.42108547e-14,  3.73205081e+00,  1.65952398e-15],\n",
       "       [ 8.88178420e-16,  6.85302822e-16,  2.67949192e-01]])"
      ]
     },
     "execution_count": 5,
     "metadata": {},
     "output_type": "execute_result"
    }
   ],
   "source": [
    "P_1@A@P"
   ]
  },
  {
   "cell_type": "code",
   "execution_count": 6,
   "id": "c5768d9f",
   "metadata": {},
   "outputs": [
    {
     "data": {
      "text/plain": [
       "3.732050807568877"
      ]
     },
     "execution_count": 6,
     "metadata": {},
     "output_type": "execute_result"
    }
   ],
   "source": [
    "2+np.sqrt(3)"
   ]
  },
  {
   "cell_type": "code",
   "execution_count": 7,
   "id": "5942c659",
   "metadata": {},
   "outputs": [
    {
     "data": {
      "text/plain": [
       "0.2679491924311228"
      ]
     },
     "execution_count": 7,
     "metadata": {},
     "output_type": "execute_result"
    }
   ],
   "source": [
    "2-np.sqrt(3)"
   ]
  },
  {
   "cell_type": "code",
   "execution_count": 8,
   "id": "003d3d48",
   "metadata": {},
   "outputs": [],
   "source": [
    "P=np.array([[1,1,1],[1/2,0,-1],[1/4,-1,1]])"
   ]
  },
  {
   "cell_type": "code",
   "execution_count": 9,
   "id": "eaa128b1",
   "metadata": {},
   "outputs": [],
   "source": [
    "P_1=np.linalg.inv(P)"
   ]
  },
  {
   "cell_type": "code",
   "execution_count": 10,
   "id": "48d794e1",
   "metadata": {},
   "outputs": [
    {
     "data": {
      "text/plain": [
       "array([[ 0.44444444,  0.88888889,  0.44444444],\n",
       "       [ 0.33333333, -0.33333333, -0.66666667],\n",
       "       [ 0.22222222, -0.55555556,  0.22222222]])"
      ]
     },
     "execution_count": 10,
     "metadata": {},
     "output_type": "execute_result"
    }
   ],
   "source": [
    "P_1"
   ]
  },
  {
   "cell_type": "code",
   "execution_count": null,
   "id": "4690f7dd",
   "metadata": {},
   "outputs": [],
   "source": []
  }
 ],
 "metadata": {
  "kernelspec": {
   "display_name": "Python 3 (ipykernel)",
   "language": "python",
   "name": "python3"
  },
  "language_info": {
   "codemirror_mode": {
    "name": "ipython",
    "version": 3
   },
   "file_extension": ".py",
   "mimetype": "text/x-python",
   "name": "python",
   "nbconvert_exporter": "python",
   "pygments_lexer": "ipython3",
   "version": "3.9.10"
  }
 },
 "nbformat": 4,
 "nbformat_minor": 5
}
