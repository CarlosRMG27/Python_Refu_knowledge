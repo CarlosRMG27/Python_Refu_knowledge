{
 "cells": [
  {
   "cell_type": "code",
   "execution_count": 1,
   "id": "620107bc",
   "metadata": {},
   "outputs": [],
   "source": [
    "import numpy as np"
   ]
  },
  {
   "cell_type": "code",
   "execution_count": 12,
   "id": "87cecffb",
   "metadata": {},
   "outputs": [],
   "source": [
    "A=np.array([[3,0],[1,2]])"
   ]
  },
  {
   "cell_type": "code",
   "execution_count": 3,
   "id": "941e9409",
   "metadata": {},
   "outputs": [],
   "source": [
    "P=np.array([[1,0],[1,1]])"
   ]
  },
  {
   "cell_type": "code",
   "execution_count": 4,
   "id": "f1e34721",
   "metadata": {},
   "outputs": [
    {
     "data": {
      "text/plain": [
       "array([[1, 0],\n",
       "       [1, 1]])"
      ]
     },
     "execution_count": 4,
     "metadata": {},
     "output_type": "execute_result"
    }
   ],
   "source": [
    "P"
   ]
  },
  {
   "cell_type": "code",
   "execution_count": 6,
   "id": "eb3f0247",
   "metadata": {},
   "outputs": [],
   "source": [
    "P_1=np.linalg.inv(P)"
   ]
  },
  {
   "cell_type": "code",
   "execution_count": 9,
   "id": "060dc0d5",
   "metadata": {},
   "outputs": [],
   "source": [
    "D=np.array([[3,0],[0,2]])"
   ]
  },
  {
   "cell_type": "code",
   "execution_count": 13,
   "id": "eab2870c",
   "metadata": {},
   "outputs": [],
   "source": [
    "A2=P@D@P_1"
   ]
  },
  {
   "cell_type": "code",
   "execution_count": 14,
   "id": "6d3875cc",
   "metadata": {},
   "outputs": [
    {
     "data": {
      "text/plain": [
       "array([[0., 0.],\n",
       "       [0., 0.]])"
      ]
     },
     "execution_count": 14,
     "metadata": {},
     "output_type": "execute_result"
    }
   ],
   "source": [
    "A-A2"
   ]
  },
  {
   "cell_type": "code",
   "execution_count": 15,
   "id": "619e03b2",
   "metadata": {},
   "outputs": [
    {
     "data": {
      "text/plain": [
       "array([[3., 0.],\n",
       "       [0., 2.]])"
      ]
     },
     "execution_count": 15,
     "metadata": {},
     "output_type": "execute_result"
    }
   ],
   "source": [
    "P_1@A@P"
   ]
  },
  {
   "cell_type": "code",
   "execution_count": 16,
   "id": "7297a6da",
   "metadata": {},
   "outputs": [],
   "source": [
    "A=np.array([[1,0,0],[3,-2,0],[2,3,4]])"
   ]
  },
  {
   "cell_type": "code",
   "execution_count": 17,
   "id": "b0cc8f86",
   "metadata": {},
   "outputs": [],
   "source": [
    "P=np.array([[1,0,0],[1,-2,0],[-5/3,1,1]])"
   ]
  },
  {
   "cell_type": "code",
   "execution_count": 18,
   "id": "78b058b4",
   "metadata": {},
   "outputs": [],
   "source": [
    "P_1=np.linalg.inv(P)"
   ]
  },
  {
   "cell_type": "code",
   "execution_count": 19,
   "id": "aabeac4d",
   "metadata": {},
   "outputs": [
    {
     "data": {
      "text/plain": [
       "array([[ 1.00000000e+00,  2.66453526e-16,  0.00000000e+00],\n",
       "       [ 1.11022302e-16, -2.00000000e+00,  0.00000000e+00],\n",
       "       [ 0.00000000e+00,  4.44089210e-16,  4.00000000e+00]])"
      ]
     },
     "execution_count": 19,
     "metadata": {},
     "output_type": "execute_result"
    }
   ],
   "source": [
    "P_1@A@P"
   ]
  },
  {
   "cell_type": "code",
   "execution_count": null,
   "id": "2686c667",
   "metadata": {},
   "outputs": [],
   "source": []
  }
 ],
 "metadata": {
  "kernelspec": {
   "display_name": "Python 3 (ipykernel)",
   "language": "python",
   "name": "python3"
  },
  "language_info": {
   "codemirror_mode": {
    "name": "ipython",
    "version": 3
   },
   "file_extension": ".py",
   "mimetype": "text/x-python",
   "name": "python",
   "nbconvert_exporter": "python",
   "pygments_lexer": "ipython3",
   "version": "3.9.10"
  }
 },
 "nbformat": 4,
 "nbformat_minor": 5
}
